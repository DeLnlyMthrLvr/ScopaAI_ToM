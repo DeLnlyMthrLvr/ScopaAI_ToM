{
 "cells": [
  {
   "cell_type": "markdown",
   "metadata": {},
   "source": [
    "# Scopone Scientifico\n",
    "This notebook will go though the creation of a \"Python library\" that allows to simulate game of Scopone Scientifico."
   ]
  },
  {
   "cell_type": "code",
   "execution_count": 45,
   "metadata": {},
   "outputs": [
    {
     "name": "stdout",
     "output_type": "stream",
     "text": [
      "Collecting tqdm\n",
      "  Downloading tqdm-4.67.0-py3-none-any.whl.metadata (57 kB)\n",
      "Downloading tqdm-4.67.0-py3-none-any.whl (78 kB)\n",
      "Installing collected packages: tqdm\n",
      "Successfully installed tqdm-4.67.0\n",
      "Note: you may need to restart the kernel to use updated packages.\n"
     ]
    }
   ],
   "source": [
    "%pip install tqdm"
   ]
  },
  {
   "cell_type": "code",
   "execution_count": 46,
   "metadata": {},
   "outputs": [],
   "source": [
    "import random\n",
    "from typing import List, Callable\n",
    "from tqdm import tqdm"
   ]
  },
  {
   "cell_type": "code",
   "execution_count": 42,
   "metadata": {},
   "outputs": [],
   "source": [
    "class Card:\n",
    "    def __init__(self, rank: int, suit: str):\n",
    "        self.rank = rank\n",
    "        self.suit = suit\n",
    "\n",
    "    def __str__(self):\n",
    "        rank_raster = self.rank\n",
    "\n",
    "        if rank_raster == 10:\n",
    "            rank_raster = \"King\"\n",
    "        elif rank_raster == 9:\n",
    "            rank_raster = \"Queen\"\n",
    "        elif rank_raster == 8:\n",
    "            rank_raster = \"Jack\"\n",
    "\n",
    "        if self.suit == \"bello\":\n",
    "            return f\"{self.rank} {self.suit}\"\n",
    "        else:\n",
    "            return f\"{self.rank} di {self.suit}\""
   ]
  },
  {
   "cell_type": "code",
   "execution_count": 43,
   "metadata": {},
   "outputs": [],
   "source": [
    "class Deck:\n",
    "    suits = ['picche', 'bello', 'fiori', 'cuori']\n",
    "    ranks = list(range(1, 11))  # Ranks from 1 to 7, plus 8, 9, and 10 for face cards.\n",
    "\n",
    "    def __init__(self):\n",
    "        self.cards = [Card(rank, suit) for suit in self.suits for rank in self.ranks]\n",
    "        self.shuffle()\n",
    "\n",
    "    def shuffle(self):\n",
    "        random.shuffle(self.cards, )\n",
    "\n",
    "    def deal(self, num_cards: int) -> List[Card]:\n",
    "        return [self.cards.pop() for _ in range(num_cards)]\n",
    "    \n",
    "    def print(self):\n",
    "        print('#' * 10 + f'Deck {self}' + '#' * 10)\n",
    "        for card in self.cards:\n",
    "            print(card)\n",
    "        print('#' * 20)\n",
    "        print(f'{len(self.cards)} cards in the deck.')\n",
    "        for suit in self.suits:\n",
    "            print(f'{sum(1 for card in self.cards if card.suit == suit)} {suit}')\n",
    "        print('#' * 20)"
   ]
  },
  {
   "cell_type": "code",
   "execution_count": 44,
   "metadata": {},
   "outputs": [
    {
     "name": "stdout",
     "output_type": "stream",
     "text": [
      "##########Deck <__main__.Deck object at 0x1100e9af0>##########\n",
      "6 di cuori\n",
      "10 di picche\n",
      "4 bello\n",
      "2 di cuori\n",
      "9 di cuori\n",
      "8 di fiori\n",
      "6 bello\n",
      "4 di fiori\n",
      "5 di picche\n",
      "10 di fiori\n",
      "3 di fiori\n",
      "5 di fiori\n",
      "10 di cuori\n",
      "6 di picche\n",
      "1 di cuori\n",
      "5 bello\n",
      "3 bello\n",
      "2 di fiori\n",
      "8 di cuori\n",
      "5 di cuori\n",
      "7 di cuori\n",
      "3 di picche\n",
      "7 bello\n",
      "1 di fiori\n",
      "6 di fiori\n",
      "4 di picche\n",
      "2 di picche\n",
      "8 bello\n",
      "4 di cuori\n",
      "1 bello\n",
      "10 bello\n",
      "1 di picche\n",
      "7 di picche\n",
      "9 di fiori\n",
      "7 di fiori\n",
      "2 bello\n",
      "9 di picche\n",
      "8 di picche\n",
      "3 di cuori\n",
      "9 bello\n",
      "####################\n",
      "40 cards in the deck.\n",
      "10 picche\n",
      "10 bello\n",
      "10 fiori\n",
      "10 cuori\n",
      "####################\n"
     ]
    }
   ],
   "source": [
    "deck = Deck()\n",
    "\n",
    "deck.print()"
   ]
  },
  {
   "cell_type": "code",
   "execution_count": null,
   "metadata": {},
   "outputs": [],
   "source": [
    "class Player:\n",
    "    def __init__(self, side: int):\n",
    "        if side not in [1, 2]:\n",
    "            raise ValueError(\"Side must be 1 or 2.\")\n",
    "        self.side = side\n",
    "        self.hand = []\n",
    "        self.captures = []\n",
    "\n",
    "    def play_card(self, card_index: int) -> Card:\n",
    "        return self.hand.pop(card_index)\n",
    "\n",
    "    def capture(self, cards: List[Card]):\n",
    "        self.captures.extend(cards)"
   ]
  },
  {
   "cell_type": "code",
   "execution_count": null,
   "metadata": {},
   "outputs": [],
   "source": [
    "class ScoponeGame:\n",
    "    def __init__(self):\n",
    "        self.deck = Deck()\n",
    "        self.players = [Player(i for i in [1,2,1,2])]\n",
    "        self.table = []\n",
    "\n",
    "    def deal_initial_hands(self):\n",
    "        for player in self.players:\n",
    "            player.hand = self.deck.deal(10)\n",
    "\n",
    "\n"
   ]
  },
  {
   "cell_type": "code",
   "execution_count": null,
   "metadata": {},
   "outputs": [],
   "source": [
    "\n",
    "class Simulation:\n",
    "    def __init__(self, num_games: int):\n",
    "        self.num_games = num_games\n",
    "        self.results = []\n",
    "\n",
    "    def run(self, callback: Callable[[dict], None]):\n",
    "        for _ in range(self.num_games):\n",
    "            game = ScoponeGame()\n",
    "            game.play_game(callback)\n",
    "            self.results.append(callback)\n"
   ]
  },
  {
   "cell_type": "code",
   "execution_count": 17,
   "metadata": {},
   "outputs": [],
   "source": [
    "def custom_callback(results):\n",
    "    print(f\"Game Results: {results}\")"
   ]
  },
  {
   "cell_type": "code",
   "execution_count": 47,
   "metadata": {},
   "outputs": [
    {
     "name": "stdout",
     "output_type": "stream",
     "text": [
      "{}\n",
      "Game Results: {}\n"
     ]
    }
   ],
   "source": [
    "sim = Simulation(num_games=1)\n",
    "sim.run(custom_callback)\n"
   ]
  },
  {
   "cell_type": "code",
   "execution_count": null,
   "metadata": {},
   "outputs": [],
   "source": []
  }
 ],
 "metadata": {
  "kernelspec": {
   "display_name": ".venv",
   "language": "python",
   "name": "python3"
  },
  "language_info": {
   "codemirror_mode": {
    "name": "ipython",
    "version": 3
   },
   "file_extension": ".py",
   "mimetype": "text/x-python",
   "name": "python",
   "nbconvert_exporter": "python",
   "pygments_lexer": "ipython3",
   "version": "3.9.6"
  }
 },
 "nbformat": 4,
 "nbformat_minor": 2
}
