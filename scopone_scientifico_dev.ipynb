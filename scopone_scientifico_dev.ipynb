{
 "cells": [
  {
   "cell_type": "markdown",
   "metadata": {},
   "source": [
    "# Scopone Scientifico\n",
    "This notebook will go though the creation of a \"Python library\" that allows to simulate game of Scopone Scientifico."
   ]
  },
  {
   "cell_type": "code",
   "execution_count": 75,
   "metadata": {},
   "outputs": [
    {
     "name": "stdout",
     "output_type": "stream",
     "text": [
      "Requirement already satisfied: tqdm in ./.venv/lib/python3.9/site-packages (4.67.0)\n",
      "Note: you may need to restart the kernel to use updated packages.\n",
      "Collecting numpy\n",
      "  Using cached numpy-2.0.2-cp39-cp39-macosx_14_0_arm64.whl.metadata (60 kB)\n",
      "Using cached numpy-2.0.2-cp39-cp39-macosx_14_0_arm64.whl (5.3 MB)\n",
      "Installing collected packages: numpy\n",
      "Successfully installed numpy-2.0.2\n",
      "Note: you may need to restart the kernel to use updated packages.\n",
      "Collecting pandas\n",
      "  Using cached pandas-2.2.3-cp39-cp39-macosx_11_0_arm64.whl.metadata (89 kB)\n",
      "Requirement already satisfied: numpy>=1.22.4 in ./.venv/lib/python3.9/site-packages (from pandas) (2.0.2)\n",
      "Requirement already satisfied: python-dateutil>=2.8.2 in ./.venv/lib/python3.9/site-packages (from pandas) (2.9.0.post0)\n",
      "Collecting pytz>=2020.1 (from pandas)\n",
      "  Using cached pytz-2024.2-py2.py3-none-any.whl.metadata (22 kB)\n",
      "Collecting tzdata>=2022.7 (from pandas)\n",
      "  Using cached tzdata-2024.2-py2.py3-none-any.whl.metadata (1.4 kB)\n",
      "Requirement already satisfied: six>=1.5 in ./.venv/lib/python3.9/site-packages (from python-dateutil>=2.8.2->pandas) (1.16.0)\n",
      "Using cached pandas-2.2.3-cp39-cp39-macosx_11_0_arm64.whl (11.3 MB)\n",
      "Using cached pytz-2024.2-py2.py3-none-any.whl (508 kB)\n",
      "Using cached tzdata-2024.2-py2.py3-none-any.whl (346 kB)\n",
      "Installing collected packages: pytz, tzdata, pandas\n",
      "Successfully installed pandas-2.2.3 pytz-2024.2 tzdata-2024.2\n",
      "Note: you may need to restart the kernel to use updated packages.\n"
     ]
    }
   ],
   "source": [
    "%pip install tqdm\n",
    "%pip install numpy\n",
    "%pip install pandas"
   ]
  },
  {
   "cell_type": "code",
   "execution_count": 46,
   "metadata": {},
   "outputs": [],
   "source": [
    "import random\n",
    "from typing import List, Callable\n",
    "from tqdm import tqdm"
   ]
  },
  {
   "cell_type": "code",
   "execution_count": 42,
   "metadata": {},
   "outputs": [],
   "source": [
    "class Card:\n",
    "    def __init__(self, rank: int, suit: str):\n",
    "        self.rank = rank\n",
    "        self.suit = suit\n",
    "\n",
    "    def __str__(self):\n",
    "        rank_raster = self.rank\n",
    "\n",
    "        if rank_raster == 10:\n",
    "            rank_raster = \"King\"\n",
    "        elif rank_raster == 9:\n",
    "            rank_raster = \"Queen\"\n",
    "        elif rank_raster == 8:\n",
    "            rank_raster = \"Jack\"\n",
    "\n",
    "        if self.suit == \"bello\":\n",
    "            return f\"{self.rank} {self.suit}\"\n",
    "        else:\n",
    "            return f\"{self.rank} di {self.suit}\""
   ]
  },
  {
   "cell_type": "code",
   "execution_count": 70,
   "metadata": {},
   "outputs": [],
   "source": [
    "class Deck:\n",
    "    suits = ['picche', 'bello', 'fiori', 'cuori']\n",
    "    ranks = list(range(1, 11))  # Ranks from 1 to 7, plus 8, 9, and 10 for face cards.\n",
    "\n",
    "    def __init__(self):\n",
    "        self.cards = [Card(rank, suit) for suit in self.suits for rank in self.ranks]\n",
    "        self.shuffle()\n",
    "\n",
    "    def shuffle(self):\n",
    "        random.shuffle(self.cards, )\n",
    "\n",
    "    def deal(self, num_cards: int) -> List[Card]:\n",
    "        return [self.cards.pop() for _ in range(num_cards)]\n",
    "    \n",
    "    def __str__(self):\n",
    "        result = '#' * 10 + f' Deck {self.__hash__()} ' + '#' * 10 + '\\n'\n",
    "        for card in self.cards:\n",
    "            result += str(card) + '\\n'\n",
    "        result += '#' * 20 + '\\n'\n",
    "        result += f'{len(self.cards)} cards in the deck.\\n'\n",
    "        for suit in self.suits:\n",
    "            result += f'{sum(1 for card in self.cards if card.suit == suit)} {suit}\\n'\n",
    "        result += '#' * 20\n",
    "        return result\n",
    "\n"
   ]
  },
  {
   "cell_type": "code",
   "execution_count": 71,
   "metadata": {},
   "outputs": [
    {
     "name": "stdout",
     "output_type": "stream",
     "text": [
      "########## Deck 285500682 ##########\n",
      "9 bello\n",
      "1 di cuori\n",
      "10 bello\n",
      "2 di fiori\n",
      "2 di picche\n",
      "5 di picche\n",
      "1 bello\n",
      "1 di picche\n",
      "6 di cuori\n",
      "9 di fiori\n",
      "10 di picche\n",
      "3 bello\n",
      "6 di fiori\n",
      "3 di cuori\n",
      "10 di fiori\n",
      "7 di picche\n",
      "4 di picche\n",
      "1 di fiori\n",
      "5 bello\n",
      "9 di picche\n",
      "7 bello\n",
      "4 di cuori\n",
      "5 di fiori\n",
      "5 di cuori\n",
      "4 di fiori\n",
      "2 di cuori\n",
      "8 bello\n",
      "4 bello\n",
      "6 bello\n",
      "2 bello\n",
      "9 di cuori\n",
      "8 di fiori\n",
      "8 di cuori\n",
      "6 di picche\n",
      "10 di cuori\n",
      "7 di fiori\n",
      "8 di picche\n",
      "3 di picche\n",
      "7 di cuori\n",
      "3 di fiori\n",
      "####################\n",
      "40 cards in the deck.\n",
      "10 picche\n",
      "10 bello\n",
      "10 fiori\n",
      "10 cuori\n",
      "####################\n"
     ]
    }
   ],
   "source": [
    "deck = Deck()\n",
    "\n",
    "print(deck)"
   ]
  },
  {
   "cell_type": "code",
   "execution_count": 102,
   "metadata": {},
   "outputs": [],
   "source": [
    "class Player:\n",
    "    def __init__(self, side: int):\n",
    "        if side not in [1, 2]:\n",
    "            raise ValueError(\"Side must be 1 or 2.\")\n",
    "        self.side = side\n",
    "        self.hand = []\n",
    "        self.captures = []\n",
    "\n",
    "    def play_card(self, card_index: int) -> Card:\n",
    "        return self.hand.pop(card_index)\n",
    "\n",
    "    def capture(self, cards: List[Card]):\n",
    "        self.captures.extend(cards)\n",
    "\n",
    "    def __str__(self):\n",
    "        return f'Player {self.__hash__()} for side {self.side} has {len(self.hand)} cards in hand and {len(self.captures)} captures.'\n",
    "    \n",
    "    def show_hand(self):\n",
    "        out = '#' * 10 + f' Player {self.__hash__()} ' + '#' * 10 + '\\n'\n",
    "        for card in self.hand:\n",
    "            out += str(card) + '\\n'\n",
    "        out += '#' * 20\n",
    "        return out"
   ]
  },
  {
   "cell_type": "code",
   "execution_count": 104,
   "metadata": {},
   "outputs": [
    {
     "name": "stdout",
     "output_type": "stream",
     "text": [
      "Players: [285514545, 276710587, 276710560, 276710488], Table: []\n",
      "['Player 285514545 for side 1 has 10 cards in hand and 0 captures.', 'Player 276710587 for side 2 has 10 cards in hand and 0 captures.', 'Player 276710560 for side 1 has 10 cards in hand and 0 captures.', 'Player 276710488 for side 2 has 10 cards in hand and 0 captures.']\n",
      "########## Player 285514545 ##########\n",
      "1 di picche\n",
      "3 di picche\n",
      "2 di cuori\n",
      "10 di cuori\n",
      "5 di picche\n",
      "10 bello\n",
      "6 di picche\n",
      "3 bello\n",
      "4 di cuori\n",
      "8 di cuori\n",
      "####################\n"
     ]
    }
   ],
   "source": [
    "class ScoponeGame:\n",
    "    def __init__(self):\n",
    "        self.deck = Deck()\n",
    "        self.players = [Player(i) for i in [1,2,1,2]]\n",
    "        self.table = []\n",
    "\n",
    "    def deal_initial_hands(self):\n",
    "        for player in self.players:\n",
    "            player.hand = self.deck.deal(10)\n",
    "\n",
    "    def __str__(self):\n",
    "        return f\"Players: {[player.__hash__() for player in self.players]}, Table: {self.table}\"\n",
    "    \n",
    "    def player_details(self):\n",
    "        return [str(player) for player in self.players]\n",
    "\n",
    "game = ScoponeGame()\n",
    "game.deal_initial_hands()\n",
    "\n",
    "print(game)\n",
    "\n",
    "print(game.player_details())\n",
    "\n",
    "print(game.players[0].show_hand())\n",
    "\n"
   ]
  },
  {
   "cell_type": "code",
   "execution_count": null,
   "metadata": {},
   "outputs": [],
   "source": [
    "\n",
    "class Simulation:\n",
    "    def __init__(self, num_games: int):\n",
    "        self.num_games = num_games\n",
    "        self.results = []\n",
    "\n",
    "    def run(self, callback: Callable[[dict], None]):\n",
    "        for _ in range(self.num_games):\n",
    "            game = ScoponeGame()\n",
    "            game.play_game(callback)\n",
    "            self.results.append(callback)\n"
   ]
  },
  {
   "cell_type": "code",
   "execution_count": 17,
   "metadata": {},
   "outputs": [],
   "source": [
    "def custom_callback(results):\n",
    "    print(f\"Game Results: {results}\")"
   ]
  },
  {
   "cell_type": "code",
   "execution_count": 47,
   "metadata": {},
   "outputs": [
    {
     "name": "stdout",
     "output_type": "stream",
     "text": [
      "{}\n",
      "Game Results: {}\n"
     ]
    }
   ],
   "source": [
    "sim = Simulation(num_games=1)\n",
    "sim.run(custom_callback)\n"
   ]
  },
  {
   "cell_type": "code",
   "execution_count": null,
   "metadata": {},
   "outputs": [],
   "source": []
  }
 ],
 "metadata": {
  "kernelspec": {
   "display_name": ".venv",
   "language": "python",
   "name": "python3"
  },
  "language_info": {
   "codemirror_mode": {
    "name": "ipython",
    "version": 3
   },
   "file_extension": ".py",
   "mimetype": "text/x-python",
   "name": "python",
   "nbconvert_exporter": "python",
   "pygments_lexer": "ipython3",
   "version": "3.9.6"
  }
 },
 "nbformat": 4,
 "nbformat_minor": 2
}
