{
 "cells": [
  {
   "cell_type": "markdown",
   "metadata": {},
   "source": [
    "# Scopone Scientifico parallel enviroment\n",
    "### Alessandro Castoldi\n",
    "The aim of this notebook is to investigate how the transition function works and whether it is functioning correctely in a *DISCRETE* space! The framework decentralized partially observable Markov decision processe (DEC-POMDP) [Oliehoek, F. A., & Amato, C. (2016). A concise introduction to decentralized POMDPs (Vol. 1). Cham, Switzerland: Springer International Publishing.]\n",
    "\n",
    "DEC-POMDP is formally defined by the 7th-tuple:$$\\langle \\mathcal{S}, \\mathcal{A}, \\mathcal{O}, R, P, n, \\gamma \\rangle$$\n",
    "\n",
    "\n",
    "Given the multi agent nature of the project we define a `Local State` which only contains information from the perspective of a single agent with $a_i\n",
    "\\in\\mathcal{A}$ and `State` $\\mathcal{S}$ as the sum of all states given for all agents $\\mathcal{A}$. \n",
    "\n",
    "The scope of this notebook is to study the transition from $s$ to $s'$ and the shared reward function $R(S,A) = \\sum_{i=0}^{n} R(s_i,a_i)$ to further investigate probability $P(s'|s,A)$.\n",
    "\n",
    "The game of Scopone Scientifico can be seen as a *Markov Decision Process* but as such every \"step\" for each action $a_i\\in\\mathcal{A_j}$ where $\\mathcal{A_j}$ represents the action space for agent $j$ an action that corresponds to a trainsition has to be chosen. The action set of for a given player always has size 40 which is a one-hot encoded vector represeting the deck used by the game. Not all actions can be taken in a state and thus the need for an action-masking function arises. [dearXiv:2006.14171v3 [cs.LG] 31 May 2022] proposes to use the big $M$ with $M=-10^8$ technique from LP and mask the logits with invalid position before the last softmax operation in the neural network. This way the final output of the network will adapt to the missing actions and adjust the probabilities.\n",
    "\n",
    "The example provided by Huang and Ontanon:\n",
    "Consider the single-agent/single-network MDP with action set $\\mathcal{A} = \\{a_0,a_1,a_2,a_3\\}$ and states $\\mathcal{S} = \\{s_0,s_1\\}$ where $s_1$ is a terminal state. Given policy $\\pi_0$ parametrised for $\\theta = [l_0,l_1,l_2,l_3] = [1.0,1.0,1.0,1.0]$ that, for the sake of this example, directly produces as the output logits.\n",
    "\n",
    "$$\\pi_\\theta(\\cdot|s_0) = [\\pi_\\theta(a_0|s_0),\\pi_\\theta(a_1|s_0),\\pi_\\theta(a_2|s_0),\\pi_\\theta(a_3|s_0)] = $$\n",
    "$$ = \\text{softmax}([l_0,l_1,l_2,l_3])=\\bigg[\\frac{1}{4},\\frac{1}{4},\\frac{1}{4},\\frac{1}{4}\\bigg] \\text{ where } \\pi_\\theta(a_i|s_0) = \\frac{\\exp(l_i)}{\\sum_j \\exp(l_j)}$$\n",
    "\n",
    "with the masked process then this becomes:\n",
    "$$\\pi'_\\theta(\\cdot|s_0) = \\text{softmax}(mask[l_0,l_1,l_2,l_3])=\\text{softmax}(mask[l_0,l_1,M,l_3]) = $$ \n",
    "$$ = [\\pi'_\\theta(a_0|s_0),\\pi'_\\theta(a_1|s_0),\\epsilon,\\pi'_\\theta(a_3|s_0)] = \\bigg[\\frac{1}{3},\\frac{1}{3},0,\\frac{1}{3}\\bigg]$$\n",
    "where $\\epsilon$ is the resulting probability of the invalid actions with a small value close to zero.\n",
    "\n",
    "\n"
   ]
  },
  {
   "cell_type": "markdown",
   "metadata": {},
   "source": [
    "NOTE TO SELF: Unlike off-policy methods, PPO\n",
    "does not utilize a replay buffer to train on samples collected throughout training. MAPPO (arXiv:2103.01955v4 [cs.LG] 4 Nov 2022) uses centralised training which would not work in a mixed enviroment such as the one of the game Scopone."
   ]
  },
  {
   "cell_type": "code",
   "execution_count": 28,
   "metadata": {},
   "outputs": [],
   "source": [
    "from gymnasium import spaces\n",
    "\n",
    "observation_space = spaces.MultiBinary((3,40))\n",
    "\n",
    "action_space = spaces.Box(0, 1, shape=(1,40))"
   ]
  },
  {
   "cell_type": "code",
   "execution_count": 29,
   "metadata": {},
   "outputs": [
    {
     "name": "stdout",
     "output_type": "stream",
     "text": [
      "observation: [[1 1 1 0 0 1 1 1 1 1 1 0 1 1 1 0 0 0 1 0 0 0 0 1 1 1 0 0 1 0 0 1 1 1 0 0\n",
      "  0 1 1 0]\n",
      " [0 0 0 1 1 0 0 1 1 1 0 1 0 0 1 0 1 0 0 1 1 1 1 1 1 0 1 0 1 0 0 0 0 1 1 1\n",
      "  1 1 1 1]\n",
      " [0 0 0 0 1 1 1 0 1 1 1 1 0 1 0 1 0 0 1 0 1 0 1 1 1 1 1 1 1 1 1 0 0 1 1 0\n",
      "  1 1 0 1]]\n",
      "action: [0.80826277 0.8693319  0.8528898  0.55528885 0.29486966 0.6107372\n",
      " 0.77806306 0.02415431 0.17515187 0.45400494 0.4815036  0.25615475\n",
      " 0.554931   0.20082004 0.44388604 0.79947764 0.79997957 0.48326507\n",
      " 0.7251019  0.99893373 0.09232935 0.942758   0.9721687  0.03660893\n",
      " 0.23022518 0.62362236 0.19774663 0.4212405  0.7824792  0.28424153\n",
      " 0.22848256 0.7466359  0.61334616 0.97763157 0.7795223  0.8585584\n",
      " 0.9598772  0.86331904 0.51146984 0.5519948 ]\n",
      "action-masked: [0.80826277 0.8693319  0.8528898  0.         0.         0.6107372\n",
      " 0.77806306 0.02415431 0.17515187 0.45400494 0.4815036  0.\n",
      " 0.554931   0.20082004 0.44388604 0.         0.         0.\n",
      " 0.7251019  0.         0.         0.         0.         0.03660893\n",
      " 0.23022518 0.62362236 0.         0.         0.7824792  0.\n",
      " 0.         0.7466359  0.61334616 0.97763157 0.         0.\n",
      " 0.         0.86331904 0.51146984 0.        ]\n"
     ]
    }
   ],
   "source": [
    "obs = observation_space.sample()\n",
    "act = action_space.sample()\n",
    "\n",
    "mask = obs[0]\n",
    "\n",
    "print('observation:', obs)\n",
    "print('action:', act[0])\n",
    "print('action-masked:', (act*mask)[0])\n"
   ]
  },
  {
   "cell_type": "code",
   "execution_count": 39,
   "metadata": {},
   "outputs": [
    {
     "data": {
      "image/png": "[encoded data removed]",
      "text/plain": [
       "<Figure size 640x480 with 1 Axes>"
      ]
     },
     "metadata": {},
     "output_type": "display_data"
    }
   ],
   "source": [
    "import matplotlib.pyplot as plt\n",
    "\n",
    "plt.hist(act[0], bins=10, alpha=0.8)\n",
    "plt.hist((act*mask)[0], bins=10, alpha=0.8)\n",
    "plt.legend(['action', 'action-masked'])\n",
    "plt.show()"
   ]
  },
  {
   "cell_type": "code",
   "execution_count": 1,
   "metadata": {},
   "outputs": [
    {
     "name": "stdout",
     "output_type": "stream",
     "text": [
      "Scopone Scientifico Environment Initalisation\n",
      "Scopone Scientifico Environment Initalisation #DONE\n"
     ]
    }
   ],
   "source": [
    "from ptzoo.env.ma_scopa_env import scopenv\n",
    "\n",
    "\n",
    "env = scopenv()"
   ]
  },
  {
   "cell_type": "code",
   "execution_count": 3,
   "metadata": {},
   "outputs": [
    {
     "name": "stdout",
     "output_type": "stream",
     "text": [
      "None\n"
     ]
    }
   ],
   "source": [
    "print(env.reset())"
   ]
  },
  {
   "cell_type": "code",
   "execution_count": null,
   "metadata": {},
   "outputs": [],
   "source": []
  }
 ],
 "metadata": {
  "kernelspec": {
   "display_name": ".venv",
   "language": "python",
   "name": "python3"
  },
  "language_info": {
   "codemirror_mode": {
    "name": "ipython",
    "version": 3
   },
   "file_extension": ".py",
   "mimetype": "text/x-python",
   "name": "python",
   "nbconvert_exporter": "python",
   "pygments_lexer": "ipython3",
   "version": "3.10.12"
  }
 },
 "nbformat": 4,
 "nbformat_minor": 2
}
